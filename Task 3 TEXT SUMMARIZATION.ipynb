{
 "cells": [
  {
   "cell_type": "code",
   "execution_count": 46,
   "metadata": {},
   "outputs": [],
   "source": [
    "#Import the packages\n",
    "\n",
    "from gensim.summarization import summarize\n",
    "\n",
    "from sumy.summarizers import luhn\n",
    "from sumy.utils import get_stop_words\n",
    "from sumy.nlp.stemmers import Stemmer\n",
    "from sumy.summarizers.luhn import LuhnSummarizer \n",
    "from sumy.parsers.plaintext import PlaintextParser\n",
    "from sumy.nlp.tokenizers import Tokenizer as sumytoken\n",
    "from sumy.summarizers.lex_rank import LexRankSummarizer\n",
    "from sumy.summarizers.lsa import LsaSummarizer as Summarizer"
   ]
  },
  {
   "cell_type": "code",
   "execution_count": 47,
   "metadata": {},
   "outputs": [],
   "source": [
    "#The text to be summarised - A text based on the \"Cockroach Theory\" By Sundar Pichai\n",
    "\n",
    "text = 'The Cockroach Theory By Sundar Pichai is based on a story of what happened in a restaurant. The story tells of how a cockroach landed on one of the ladies in the group, and how she immediately reacts to this by screaming and wildly flailing her hands to rid herself of the cockroach. The cockroach jumps from one person to the next, and a waiter comes to the group’s rescue. Despite the fact that the cockroach also managed to land on the waiter’s shirt, his reaction was different. Instead of screaming and flailing, he stood firm, observed the cockroach’s behavior then calmly caught it and threw it out the door.What lessons can you draw from this theory? Well, I’ve thought about this and found this theory to be quite an eye opener. It is very normal and almost an instinct for us to always react to things that we do not like in our lives as well as problems. For instance, the noise that my neighbor causes with his loud music flares my temper and makes me storm out of my house and bang on his door. Could I perhaps stop, think and observe like the waiter did, before finally finding a solution to this without having to get all flared up by the noise? In Physics, it is said that for every action, there is a reaction (Newton’s 3rd Law of Motion). Interestingly, this law applies to collisions; no wonder the chaos and drama that ensue when we react to life stresses.Granted, life doesn’t always throw at us pleasantries, but also disappointments which we definitely have to deal with. How we deal with these disappointments is what will determine whether our lives will be chaotic, as in the case of screaming and flailing, or whether it will be under control, as in the case of calmly observing the problem and finding a solution to it. Very often, people resort to reacting, which is normally formed through many years of habit and a lack of understanding of how to deal squarely with problems. Many people also choose other ways of confronting their problems; either by avoiding them, or by blaming other people for their problems.In this context then, trying to fix the problem becomes a challenge, as one will look for ways to free themselves of the problem, instead of solving it. This plays a huge impact not just in our personal lives, but also in business. A good advice given by many psychologists is that you should remain calm in times of stress. This helps you see the problem in a different perspective and helps you think of ways of dealing with the problem.To wrap it all up, it is much better to respond (stop and think about what you need to face) to life stresses instead of react to them. In this way, you will develop the right attitude in enriching your life, despite the challenges that come your way.'"
   ]
  },
  {
   "cell_type": "code",
   "execution_count": 49,
   "metadata": {},
   "outputs": [
    {
     "name": "stdout",
     "output_type": "stream",
     "text": [
      "\n",
      " ****************************** LEXRANK SUMARIZER ******************************\n",
      "The story tells of how a cockroach landed on one of the ladies in the group, and how she immediately reacts to this by screaming and wildly flailing her hands to rid herself of the cockroach.\n",
      "The cockroach jumps from one person to the next, and a waiter comes to the group’s rescue.\n",
      "Could I perhaps stop, think and observe like the waiter did, before finally finding a solution to this without having to get all flared up by the noise?\n",
      "Interestingly, this law applies to collisions; no wonder the chaos and drama that ensue when we react to life stresses.Granted, life doesn’t always throw at us pleasantries, but also disappointments which we definitely have to deal with.\n",
      "\n",
      " ****************************** LSA SUMMARIZER ******************************\n",
      "The Cockroach Theory By Sundar Pichai is based on a story of what happened in a restaurant.\n",
      "Instead of screaming and flailing, he stood firm, observed the cockroach’s behavior then calmly caught it and threw it out the door.What lessons can you draw from this theory?\n",
      "For instance, the noise that my neighbor causes with his loud music flares my temper and makes me storm out of my house and bang on his door.\n",
      "Very often, people resort to reacting, which is normally formed through many years of habit and a lack of understanding of how to deal squarely with problems.\n",
      "\n",
      " ****************************** LUHN SUMMARIZER ******************************\n",
      "The Cockroach Theory By Sundar Pichai is based on a story of what happened in a restaurant.\n",
      "The story tells of how a cockroach landed on one of the ladies in the group, and how she immediately reacts to this by screaming and wildly flailing her hands to rid herself of the cockroach.\n",
      "Interestingly, this law applies to collisions; no wonder the chaos and drama that ensue when we react to life stresses.Granted, life doesn’t always throw at us pleasantries, but also disappointments which we definitely have to deal with.\n",
      "How we deal with these disappointments is what will determine whether our lives will be chaotic, as in the case of screaming and flailing, or whether it will be under control, as in the case of calmly observing the problem and finding a solution to it.\n",
      "\n",
      " ****************************** GENSIM SUMMARIZER ******************************\n",
      "Instead of screaming and flailing, he stood firm, observed the cockroach’s behavior then calmly caught it and threw it out the door.What lessons can you draw from this theory?\n",
      "How we deal with these disappointments is what will determine whether our lives will be chaotic, as in the case of screaming and flailing, or whether it will be under control, as in the case of calmly observing the problem and finding a solution to it.\n",
      "This helps you see the problem in a different perspective and helps you think of ways of dealing with the problem.To wrap it all up, it is much better to respond (stop and think about what you need to face) to life stresses instead of react to them.\n"
     ]
    }
   ],
   "source": [
    "# To effectively parse the text\n",
    "\n",
    "LANGUAGE = \"english\"\n",
    "SENTENCES_COUNT = 4\n",
    "\n",
    "parser = PlaintextParser.from_string((text),sumytoken(LANGUAGE))\n",
    "stemmer = Stemmer(LANGUAGE)\n",
    "\n",
    "def lexrank_summarizer():\n",
    "    print (\"\\n\",\"*\"*30, \"LEXRANK SUMARIZER\", \"*\"*30)\n",
    "    summarizer_LexRank = LexRankSummarizer(stemmer)\n",
    "    summarizer_LexRank.stop_words = get_stop_words(LANGUAGE)\n",
    "    for sentence in summarizer_LexRank(parser.document, SENTENCES_COUNT):\n",
    "        print (sentence)\n",
    "        \n",
    "def lsa_summarizer():\n",
    "    print (\"\\n\",\"*\"*30, \"LSA SUMMARIZER\", \"*\"*30)\n",
    "    summarizer_lsa = Summarizer(stemmer)\n",
    "    summarizer_lsa.stop_words = get_stop_words(LANGUAGE)\n",
    "    for sentence in summarizer_lsa(parser.document, SENTENCES_COUNT):\n",
    "        print (sentence)\n",
    "        \n",
    "def luhn_summarizer():\n",
    "    print (\"\\n\",\"*\"*30, \"LUHN SUMMARIZER\", \"*\"*30)\n",
    "    summarizer_luhn = LuhnSummarizer(stemmer)\n",
    "    summarizer_luhn.stop_words = get_stop_words(LANGUAGE)\n",
    "    for sentence in summarizer_luhn(parser.document, SENTENCES_COUNT):\n",
    "        print (sentence)\n",
    "        \n",
    "def gensim_summarizer():\n",
    "    print (\"\\n\",\"*\"*30, \"GENSIM SUMMARIZER\", \"*\"*30)\n",
    "    print (summarize(text))\n",
    "\n",
    "\n",
    "#----Call all the functions to print and compare the summaries\n",
    "\n",
    "lexrank_summarizer()\n",
    "lsa_summarizer()\n",
    "luhn_summarizer()\n",
    "gensim_summarizer()\n"
   ]
  }
 ],
 "metadata": {
  "kernelspec": {
   "display_name": "Python 3",
   "language": "python",
   "name": "python3"
  },
  "language_info": {
   "codemirror_mode": {
    "name": "ipython",
    "version": 3
   },
   "file_extension": ".py",
   "mimetype": "text/x-python",
   "name": "python",
   "nbconvert_exporter": "python",
   "pygments_lexer": "ipython3",
   "version": "3.6.5"
  }
 },
 "nbformat": 4,
 "nbformat_minor": 2
}
